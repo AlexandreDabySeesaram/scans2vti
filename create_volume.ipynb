{
 "cells": [
  {
   "cell_type": "markdown",
   "metadata": {},
   "source": [
    "## Creating volume images \n",
    "\n",
    "This notebook shows how to create volume images from scans using vtk.\n",
    "\n",
    "## Import corresponding functions"
   ]
  },
  {
   "cell_type": "code",
   "execution_count": 1,
   "metadata": {},
   "outputs": [],
   "source": [
    "from create_vti_from_scans import PGM2vti, TIFF2vti"
   ]
  },
  {
   "cell_type": "markdown",
   "metadata": {},
   "source": [
    "## Specify user-specific variables\n",
    "\n",
    "Here we can specify the different variables inherent to the current project (paths, file names, expected output names and so on)"
   ]
  },
  {
   "cell_type": "code",
   "execution_count": 2,
   "metadata": {},
   "outputs": [],
   "source": [
    "working_folder          = \"Images/RAW\"\n",
    "images_basename         = \"Pat2_inspi1\"\n",
    "output_name             = \"Volume\"\n",
    "image_ext               = \".pgm\"\n",
    "pixel_size              = [1,1,1]"
   ]
  },
  {
   "cell_type": "markdown",
   "metadata": {},
   "source": [
    "## Actually creating the volume image"
   ]
  },
  {
   "cell_type": "code",
   "execution_count": 4,
   "metadata": {},
   "outputs": [
    {
     "name": "stdout",
     "output_type": "stream",
     "text": [
      "Images/RAW/Pat2_inspi1_0000.pgm\n",
      "Images/RAW/Pat2_inspi1_0006.pgm\n",
      "Writing image: Images/RAW/Volume.vti\n"
     ]
    }
   ],
   "source": [
    "match image_ext:\n",
    "    case \".pgm\":\n",
    "        PGM2vti(\n",
    "            output_name         = working_folder + \"/\" + output_name        ,\n",
    "            Raw_PGM_base_name   = working_folder + \"/\" + images_basename    )\n",
    "    case \".tiff\"\n",
    "        TIFF2vti(\n",
    "            output_name         = working_folder + \"/\" + output_name        ,\n",
    "            images_base_name    = working_folder + \"/\" + images_basename    ,\n",
    "            pixel_size          = pixel_size                                )"
   ]
  }
 ],
 "metadata": {
  "kernelspec": {
   "display_name": "dolfin_warp-e-env",
   "language": "python",
   "name": "python3"
  },
  "language_info": {
   "codemirror_mode": {
    "name": "ipython",
    "version": 3
   },
   "file_extension": ".py",
   "mimetype": "text/x-python",
   "name": "python",
   "nbconvert_exporter": "python",
   "pygments_lexer": "ipython3",
   "version": "3.10.13"
  }
 },
 "nbformat": 4,
 "nbformat_minor": 2
}
